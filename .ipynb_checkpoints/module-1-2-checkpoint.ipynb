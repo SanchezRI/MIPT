{
 "cells": [
  {
   "cell_type": "code",
   "execution_count": 560,
   "id": "05cceb2a-3fa6-4698-a541-abb2559e92ea",
   "metadata": {},
   "outputs": [],
   "source": [
    "import numpy as np\n",
    "import pandas as pd"
   ]
  },
  {
   "cell_type": "markdown",
   "id": "a9a04fcf-b048-4974-ada9-abaa9841ae6e",
   "metadata": {},
   "source": [
    "-------------------------------------------------------------------------------------------------------------------\n",
    "### Task 1. Index resolve problem"
   ]
  },
  {
   "cell_type": "code",
   "execution_count": 561,
   "id": "685cf937-d1f4-4dd3-9f6a-beeedfa911a4",
   "metadata": {},
   "outputs": [],
   "source": [
    "df = pd.DataFrame(np.nan, index=[0, 1, 2, 3], columns=['I', 'II', 'III'])\n",
    "df.loc[0,\"I\"] = 1\n",
    "df.loc[1,\"I\"] = 2\n",
    "df.loc[2,\"I\"] = 3\n",
    "df.loc[3,\"I\"] = 4\n",
    "df.loc[0,\"II\"] = 5\n",
    "df.loc[1,\"II\"] = 6\n",
    "df.loc[2,\"III\"] = 7\n",
    "df.loc[3,\"III\"] = 6"
   ]
  },
  {
   "cell_type": "code",
   "execution_count": 562,
   "id": "7732a789-8a7c-45cf-9e26-b93276411c3c",
   "metadata": {},
   "outputs": [
    {
     "data": {
      "text/html": [
       "<div>\n",
       "<style scoped>\n",
       "    .dataframe tbody tr th:only-of-type {\n",
       "        vertical-align: middle;\n",
       "    }\n",
       "\n",
       "    .dataframe tbody tr th {\n",
       "        vertical-align: top;\n",
       "    }\n",
       "\n",
       "    .dataframe thead th {\n",
       "        text-align: right;\n",
       "    }\n",
       "</style>\n",
       "<table border=\"1\" class=\"dataframe\">\n",
       "  <thead>\n",
       "    <tr style=\"text-align: right;\">\n",
       "      <th></th>\n",
       "      <th>A</th>\n",
       "      <th>B</th>\n",
       "      <th>C</th>\n",
       "    </tr>\n",
       "  </thead>\n",
       "  <tbody>\n",
       "    <tr>\n",
       "      <th>1</th>\n",
       "      <td>1.0</td>\n",
       "      <td>5.0</td>\n",
       "      <td>55.0</td>\n",
       "    </tr>\n",
       "    <tr>\n",
       "      <th>2</th>\n",
       "      <td>2.0</td>\n",
       "      <td>6.0</td>\n",
       "      <td>55.0</td>\n",
       "    </tr>\n",
       "    <tr>\n",
       "      <th>3</th>\n",
       "      <td>3.0</td>\n",
       "      <td>55.0</td>\n",
       "      <td>7.0</td>\n",
       "    </tr>\n",
       "    <tr>\n",
       "      <th>4</th>\n",
       "      <td>4.0</td>\n",
       "      <td>55.0</td>\n",
       "      <td>6.0</td>\n",
       "    </tr>\n",
       "  </tbody>\n",
       "</table>\n",
       "</div>"
      ],
      "text/plain": [
       "     A     B     C\n",
       "1  1.0   5.0  55.0\n",
       "2  2.0   6.0  55.0\n",
       "3  3.0  55.0   7.0\n",
       "4  4.0  55.0   6.0"
      ]
     },
     "execution_count": 562,
     "metadata": {},
     "output_type": "execute_result"
    }
   ],
   "source": [
    "df = df.rename(index={0:1, 1:2, 2:3, 3:4})\n",
    "df = df.rename(columns={'I':\"A\", 'II':\"B\", 'III':\"C\"})\n",
    "df = df.fillna(55)\n",
    "df"
   ]
  },
  {
   "cell_type": "markdown",
   "id": "b11d52f2-039f-433c-897d-3f164502d898",
   "metadata": {},
   "source": [
    "----------------------------------------------------------------------------------------------------------------\n",
    "### Task 2. Cost analisys and assortiment fruits analisys for market"
   ]
  },
  {
   "cell_type": "code",
   "execution_count": 563,
   "id": "2555f727-55c1-4ba0-8cae-1f44ad1cdb03",
   "metadata": {},
   "outputs": [],
   "source": [
    "fruit = np.array([\"lemons\", \"lemons\", \"lemons\", \"lemons\",\n",
    "             \t\"apples\", \"apples\", \"apples\", \"apples\",\n",
    "             \t\"apples\", \"apples\", \"apples\"],\n",
    "            \tdtype=object)\n",
    "\n",
    "shop = np.array([\"Shop A\", \"Shop A\", \"Shop A\", \"Shop B\",\n",
    "             \t\"Shop A\", \"Shop A\", \"Shop A\", \"Shop B\",\n",
    "             \t\"Shop B\", \"Shop B\", \"Shop A\"],\n",
    "            \tdtype=object)\n",
    " \n",
    "pl = np.array([\"online\", \"online\", \"offline\",\n",
    "             \t\"online\", \"online\", \"offline\",\n",
    "             \t\"offline\", \"online\", \"offline\",\n",
    "             \t\"offline\", \"offline\"],\n",
    "            \tdtype=object)\n",
    "\n",
    "df = pd.DataFrame({'fruit': fruit, 'shop': shop, 'pl': pl,\n",
    "               \t\"Q\": [1, 2, 2, 3, 3, 4, 5, 6, 7, 4, 4],\n",
    "               \t\"P\": [5, 4, 5, 5, 6, 6, 8, 9, 9, 3, 3]})\n",
    "df['total'] = df['Q']*df['P']"
   ]
  },
  {
   "cell_type": "code",
   "execution_count": 564,
   "id": "d9f3065b-ec15-41f9-8960-554e9a5e1b96",
   "metadata": {},
   "outputs": [
    {
     "data": {
      "text/plain": [
       "40"
      ]
     },
     "execution_count": 564,
     "metadata": {},
     "output_type": "execute_result"
    }
   ],
   "source": [
    "subnet = df[(df['Q'] > 3) & (df['shop'] == 'Shop A')]\n",
    "total2 = subnet.iloc[1]['total']\n",
    "total2"
   ]
  },
  {
   "cell_type": "code",
   "execution_count": 565,
   "id": "c1b6609b-0db8-40ff-a42a-962f12b755b9",
   "metadata": {},
   "outputs": [
    {
     "data": {
      "text/plain": [
       "fruit\n",
       "apples    223\n",
       "lemons     38\n",
       "Name: total, dtype: int64"
      ]
     },
     "execution_count": 565,
     "metadata": {},
     "output_type": "execute_result"
    }
   ],
   "source": [
    "fruit_total = df.groupby('fruit')['total'].sum()\n",
    "fruit_total"
   ]
  },
  {
   "cell_type": "code",
   "execution_count": 566,
   "id": "9c043543-9f15-4a5f-aff7-5d416213973e",
   "metadata": {},
   "outputs": [
    {
     "data": {
      "text/plain": [
       "fruit\n",
       "apples    33\n",
       "lemons     8\n",
       "Name: Q, dtype: int64"
      ]
     },
     "execution_count": 566,
     "metadata": {},
     "output_type": "execute_result"
    }
   ],
   "source": [
    "fruit_quantity = df.groupby('fruit')['Q'].sum()\n",
    "fruit_quantity"
   ]
  },
  {
   "cell_type": "code",
   "execution_count": 567,
   "id": "1006c537-251c-4017-9423-4b29a3c32afb",
   "metadata": {},
   "outputs": [
    {
     "name": "stdout",
     "output_type": "stream",
     "text": [
      "fruit\n",
      "lemons    4.75\n",
      "Name: P, dtype: float64\n",
      "<class 'pandas.core.series.Series'>\n"
     ]
    }
   ],
   "source": [
    "lemon_average_price = df[df['fruit'] == 'lemons']['P'].mean()\n",
    "# Вывод в желаемом формате\n",
    "result = df[df['fruit'] == 'lemons'].groupby('fruit')['P'].mean()\n",
    "print(result)\n",
    "print(type(result))"
   ]
  },
  {
   "cell_type": "markdown",
   "id": "e275b486-6670-4846-80e6-60f4c92c2ecd",
   "metadata": {},
   "source": [
    "----------------------------------------------------------------------------------------------------------------\n",
    "### Task 3. Cost analisys and assortiment fruits analisys for market (continuation)"
   ]
  },
  {
   "cell_type": "code",
   "execution_count": 568,
   "id": "9ff7cb57-f82e-45ed-8d28-94400df630a1",
   "metadata": {},
   "outputs": [],
   "source": [
    "fruit = np.array([\"lemons\", \"lemons\", \"lemons\", \"lemons\",\n",
    "                 \"apples\", \"apples\", \"apples\", \"apples\",\n",
    "                 \"apples\", \"apples\", \"apples\"],\n",
    "                dtype=object)\n",
    "\n",
    "shop = np.array([\"Shop A\", \"Shop A\", \"Shop A\", \"Shop B\",\n",
    "                 \"Shop A\", \"Shop A\", \"Shop A\", \"Shop B\",\n",
    "                 \"Shop B\", \"Shop B\", \"Shop A\"],\n",
    "                dtype=object)\n",
    "  \n",
    "pl = np.array([\"online\", \"online\", \"offline\",\n",
    "                 \"online\", \"online\", \"offline\",\n",
    "                 \"offline\", \"online\", \"offline\",\n",
    "                 \"offline\", \"offline\"],\n",
    "                dtype=object)\n",
    "\n",
    "\n",
    "\n",
    "df = pd.DataFrame({'fruit': fruit, 'shop': shop, 'pl': pl,\n",
    "                   \"Q\": [1, 2, 2, 3, 3, 4, 5, 6, 7, 4, 4],\n",
    "                   \"P\": [5, 4, 5, 5, 6, 6, 8, 9, 9, 3,3]})\n",
    "df['total'] = df['Q']*df['P']\n",
    "# далее запишите ваш код\n"
   ]
  },
  {
   "cell_type": "code",
   "execution_count": 569,
   "id": "55e79446-6856-4d49-a820-3ab0c1b65d76",
   "metadata": {},
   "outputs": [
    {
     "data": {
      "text/html": [
       "<div>\n",
       "<style scoped>\n",
       "    .dataframe tbody tr th:only-of-type {\n",
       "        vertical-align: middle;\n",
       "    }\n",
       "\n",
       "    .dataframe tbody tr th {\n",
       "        vertical-align: top;\n",
       "    }\n",
       "\n",
       "    .dataframe thead th {\n",
       "        text-align: right;\n",
       "    }\n",
       "</style>\n",
       "<table border=\"1\" class=\"dataframe\">\n",
       "  <thead>\n",
       "    <tr style=\"text-align: right;\">\n",
       "      <th>pl</th>\n",
       "      <th>offline</th>\n",
       "      <th>online</th>\n",
       "    </tr>\n",
       "    <tr>\n",
       "      <th>shop</th>\n",
       "      <th></th>\n",
       "      <th></th>\n",
       "    </tr>\n",
       "  </thead>\n",
       "  <tbody>\n",
       "    <tr>\n",
       "      <th>Shop A</th>\n",
       "      <td>86</td>\n",
       "      <td>31</td>\n",
       "    </tr>\n",
       "    <tr>\n",
       "      <th>Shop B</th>\n",
       "      <td>75</td>\n",
       "      <td>69</td>\n",
       "    </tr>\n",
       "  </tbody>\n",
       "</table>\n",
       "</div>"
      ],
      "text/plain": [
       "pl      offline  online\n",
       "shop                   \n",
       "Shop A       86      31\n",
       "Shop B       75      69"
      ]
     },
     "execution_count": 569,
     "metadata": {},
     "output_type": "execute_result"
    }
   ],
   "source": [
    "pivot = pd.pivot_table(df, values='total', index='shop', columns='pl', aggfunc='sum')\n",
    "pivot"
   ]
  },
  {
   "cell_type": "code",
   "execution_count": 570,
   "id": "c9b0e5bc-2d30-439c-ac33-05ca329225f6",
   "metadata": {},
   "outputs": [
    {
     "name": "stdout",
     "output_type": "stream",
     "text": [
      "69\n"
     ]
    }
   ],
   "source": [
    "value = pivot.iloc[1, 1]\n",
    "print(value)"
   ]
  },
  {
   "cell_type": "code",
   "execution_count": 571,
   "id": "5e7930ea-cda2-484b-912f-c9a9df5f85e1",
   "metadata": {},
   "outputs": [
    {
     "data": {
      "text/plain": [
       "array([116, 105, 114, 135])"
      ]
     },
     "execution_count": 571,
     "metadata": {},
     "output_type": "execute_result"
    }
   ],
   "source": [
    "# q = (18; 14; 23; 36)\n",
    "v = np.array((18, 14, 23, 36))\n",
    "v2 = np.array((25, 14, 23, 44))\n",
    "res = v + v2\n",
    "res\n",
    "res2 = np.add(v, v2)\n",
    "res2\n",
    "res3 = sum(v, v2)\n",
    "res3"
   ]
  },
  {
   "cell_type": "code",
   "execution_count": 572,
   "id": "91529928-2b34-496e-aed6-1b99910b6ada",
   "metadata": {},
   "outputs": [
    {
     "data": {
      "text/plain": [
       "3.4641016151377544"
      ]
     },
     "execution_count": 572,
     "metadata": {},
     "output_type": "execute_result"
    }
   ],
   "source": [
    "v3 = np.array([1, 2, 6])\n",
    "v4 = np.array([3, 4, 8])\n",
    "result = np.linalg.norm(v4-v3)\n",
    "result"
   ]
  }
 ],
 "metadata": {
  "kernelspec": {
   "display_name": "Python 3 (ipykernel)",
   "language": "python",
   "name": "python3"
  },
  "language_info": {
   "codemirror_mode": {
    "name": "ipython",
    "version": 3
   },
   "file_extension": ".py",
   "mimetype": "text/x-python",
   "name": "python",
   "nbconvert_exporter": "python",
   "pygments_lexer": "ipython3",
   "version": "3.8.10"
  }
 },
 "nbformat": 4,
 "nbformat_minor": 5
}
